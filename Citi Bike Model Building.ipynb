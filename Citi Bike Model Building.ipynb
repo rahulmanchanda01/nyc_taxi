{
 "cells": [
  {
   "cell_type": "code",
   "execution_count": 212,
   "metadata": {
    "collapsed": false
   },
   "outputs": [],
   "source": [
    "from pandas import Series, DataFrame\n",
    "import pandas as pd\n",
    "import numpy as np\n",
    "\n",
    "weather = pd.read_csv('weather.txt',delimiter = ',',skipinitialspace = True)\n",
    "weather.columns = weather.columns.str.strip().str.lower()\n",
    "\n",
    "taxi = pd.read_csv('nyc_taxi_may_dec2015_newfile.csv')\n",
    "\n",
    "bike = pd.read_csv('bike_may_dec_2015.csv')\n",
    "\n"
   ]
  },
  {
   "cell_type": "code",
   "execution_count": 213,
   "metadata": {
    "collapsed": false
   },
   "outputs": [
    {
     "data": {
      "text/html": [
       "<div>\n",
       "<table border=\"1\" class=\"dataframe\">\n",
       "  <thead>\n",
       "    <tr style=\"text-align: right;\">\n",
       "      <th></th>\n",
       "      <th>Unnamed: 0</th>\n",
       "      <th>VendorID</th>\n",
       "      <th>tpep_pickup_datetime</th>\n",
       "      <th>tpep_dropoff_datetime</th>\n",
       "      <th>passenger_count</th>\n",
       "      <th>trip_distance</th>\n",
       "      <th>pickup_longitude</th>\n",
       "      <th>pickup_latitude</th>\n",
       "      <th>RatecodeID</th>\n",
       "      <th>store_and_fwd_flag</th>\n",
       "      <th>...</th>\n",
       "      <th>tip_amount</th>\n",
       "      <th>tolls_amount</th>\n",
       "      <th>improvement_surcharge</th>\n",
       "      <th>total_amount</th>\n",
       "      <th>Month</th>\n",
       "      <th>Time</th>\n",
       "      <th>Day</th>\n",
       "      <th>pickup_zip</th>\n",
       "      <th>dropoff_zip</th>\n",
       "      <th>pickup_date</th>\n",
       "    </tr>\n",
       "  </thead>\n",
       "  <tbody>\n",
       "    <tr>\n",
       "      <th>690117</th>\n",
       "      <td>690117</td>\n",
       "      <td>2</td>\n",
       "      <td>2015-11-30 23:56:07</td>\n",
       "      <td>2015-12-01 00:14:51</td>\n",
       "      <td>2</td>\n",
       "      <td>4.43</td>\n",
       "      <td>-73.971893</td>\n",
       "      <td>40.760406</td>\n",
       "      <td>1</td>\n",
       "      <td>N</td>\n",
       "      <td>...</td>\n",
       "      <td>3.00</td>\n",
       "      <td>0.0</td>\n",
       "      <td>0.3</td>\n",
       "      <td>21.30</td>\n",
       "      <td>11</td>\n",
       "      <td>23:56:07</td>\n",
       "      <td>30</td>\n",
       "      <td>10022.0</td>\n",
       "      <td>10007.0</td>\n",
       "      <td>2015-11-30</td>\n",
       "    </tr>\n",
       "    <tr>\n",
       "      <th>690118</th>\n",
       "      <td>690118</td>\n",
       "      <td>2</td>\n",
       "      <td>2015-11-30 23:56:19</td>\n",
       "      <td>2015-12-01 00:05:03</td>\n",
       "      <td>1</td>\n",
       "      <td>2.01</td>\n",
       "      <td>-73.998512</td>\n",
       "      <td>40.734722</td>\n",
       "      <td>1</td>\n",
       "      <td>N</td>\n",
       "      <td>...</td>\n",
       "      <td>2.45</td>\n",
       "      <td>0.0</td>\n",
       "      <td>0.3</td>\n",
       "      <td>12.25</td>\n",
       "      <td>11</td>\n",
       "      <td>23:56:19</td>\n",
       "      <td>30</td>\n",
       "      <td>10014.0</td>\n",
       "      <td>10007.0</td>\n",
       "      <td>2015-11-30</td>\n",
       "    </tr>\n",
       "    <tr>\n",
       "      <th>690119</th>\n",
       "      <td>690119</td>\n",
       "      <td>1</td>\n",
       "      <td>2015-11-30 23:57:20</td>\n",
       "      <td>2015-12-01 00:22:55</td>\n",
       "      <td>1</td>\n",
       "      <td>18.00</td>\n",
       "      <td>-73.789200</td>\n",
       "      <td>40.641834</td>\n",
       "      <td>2</td>\n",
       "      <td>N</td>\n",
       "      <td>...</td>\n",
       "      <td>10.56</td>\n",
       "      <td>0.0</td>\n",
       "      <td>0.3</td>\n",
       "      <td>63.36</td>\n",
       "      <td>11</td>\n",
       "      <td>23:57:20</td>\n",
       "      <td>30</td>\n",
       "      <td>11430.0</td>\n",
       "      <td>10009.0</td>\n",
       "      <td>2015-11-30</td>\n",
       "    </tr>\n",
       "    <tr>\n",
       "      <th>690120</th>\n",
       "      <td>690120</td>\n",
       "      <td>2</td>\n",
       "      <td>2015-11-30 23:59:02</td>\n",
       "      <td>2015-12-01 00:02:19</td>\n",
       "      <td>2</td>\n",
       "      <td>0.87</td>\n",
       "      <td>-73.999153</td>\n",
       "      <td>40.761059</td>\n",
       "      <td>1</td>\n",
       "      <td>N</td>\n",
       "      <td>...</td>\n",
       "      <td>0.00</td>\n",
       "      <td>0.0</td>\n",
       "      <td>0.3</td>\n",
       "      <td>5.80</td>\n",
       "      <td>11</td>\n",
       "      <td>23:59:02</td>\n",
       "      <td>30</td>\n",
       "      <td>10036.0</td>\n",
       "      <td>10036.0</td>\n",
       "      <td>2015-11-30</td>\n",
       "    </tr>\n",
       "    <tr>\n",
       "      <th>690121</th>\n",
       "      <td>690121</td>\n",
       "      <td>1</td>\n",
       "      <td>2015-11-30 23:59:44</td>\n",
       "      <td>2015-12-01 00:08:14</td>\n",
       "      <td>1</td>\n",
       "      <td>2.90</td>\n",
       "      <td>-73.976036</td>\n",
       "      <td>40.765671</td>\n",
       "      <td>1</td>\n",
       "      <td>N</td>\n",
       "      <td>...</td>\n",
       "      <td>0.00</td>\n",
       "      <td>0.0</td>\n",
       "      <td>0.3</td>\n",
       "      <td>11.30</td>\n",
       "      <td>11</td>\n",
       "      <td>23:59:44</td>\n",
       "      <td>30</td>\n",
       "      <td>10111.0</td>\n",
       "      <td>10029.0</td>\n",
       "      <td>2015-11-30</td>\n",
       "    </tr>\n",
       "  </tbody>\n",
       "</table>\n",
       "<p>5 rows × 26 columns</p>\n",
       "</div>"
      ],
      "text/plain": [
       "        Unnamed: 0  VendorID tpep_pickup_datetime tpep_dropoff_datetime  \\\n",
       "690117      690117         2  2015-11-30 23:56:07   2015-12-01 00:14:51   \n",
       "690118      690118         2  2015-11-30 23:56:19   2015-12-01 00:05:03   \n",
       "690119      690119         1  2015-11-30 23:57:20   2015-12-01 00:22:55   \n",
       "690120      690120         2  2015-11-30 23:59:02   2015-12-01 00:02:19   \n",
       "690121      690121         1  2015-11-30 23:59:44   2015-12-01 00:08:14   \n",
       "\n",
       "        passenger_count  trip_distance  pickup_longitude  pickup_latitude  \\\n",
       "690117                2           4.43        -73.971893        40.760406   \n",
       "690118                1           2.01        -73.998512        40.734722   \n",
       "690119                1          18.00        -73.789200        40.641834   \n",
       "690120                2           0.87        -73.999153        40.761059   \n",
       "690121                1           2.90        -73.976036        40.765671   \n",
       "\n",
       "        RatecodeID store_and_fwd_flag     ...       tip_amount  tolls_amount  \\\n",
       "690117           1                  N     ...             3.00           0.0   \n",
       "690118           1                  N     ...             2.45           0.0   \n",
       "690119           2                  N     ...            10.56           0.0   \n",
       "690120           1                  N     ...             0.00           0.0   \n",
       "690121           1                  N     ...             0.00           0.0   \n",
       "\n",
       "        improvement_surcharge  total_amount  Month      Time  Day  pickup_zip  \\\n",
       "690117                    0.3         21.30     11  23:56:07   30     10022.0   \n",
       "690118                    0.3         12.25     11  23:56:19   30     10014.0   \n",
       "690119                    0.3         63.36     11  23:57:20   30     11430.0   \n",
       "690120                    0.3          5.80     11  23:59:02   30     10036.0   \n",
       "690121                    0.3         11.30     11  23:59:44   30     10111.0   \n",
       "\n",
       "        dropoff_zip  pickup_date  \n",
       "690117      10007.0   2015-11-30  \n",
       "690118      10007.0   2015-11-30  \n",
       "690119      10009.0   2015-11-30  \n",
       "690120      10036.0   2015-11-30  \n",
       "690121      10029.0   2015-11-30  \n",
       "\n",
       "[5 rows x 26 columns]"
      ]
     },
     "execution_count": 213,
     "metadata": {},
     "output_type": "execute_result"
    }
   ],
   "source": [
    "taxi = taxi[taxi['Month'] != 12]\n",
    "bike = bike[bike['month'] != 12]\n",
    "\n",
    "taxi['tpep_pickup_datetime'] = pd.to_datetime(taxi['tpep_pickup_datetime'])\n",
    "bike['starttime'] = pd.to_datetime(bike['starttime'])\n",
    "\n",
    "taxi['pickup_date'] = pd.DatetimeIndex(taxi['tpep_pickup_datetime']).date\n",
    "bike['startdate'] = pd.DatetimeIndex(bike['starttime']).date\n",
    "taxi.tail()"
   ]
  },
  {
   "cell_type": "code",
   "execution_count": 214,
   "metadata": {
    "collapsed": false
   },
   "outputs": [],
   "source": [
    "# Aggregating taxi data to daily level to get #trips\n",
    "taxi_daily = taxi.groupby(['pickup_date','pickup_zip']).count()['VendorID'].reset_index()\n",
    "taxi_daily = pd.DataFrame(taxi_daily)\n",
    "taxi_daily.columns = ['startdate','pickup_zip', 'trip_count']\n",
    "\n",
    "#Aggregating bike data to daily level to get #trips\n",
    "bike_daily = bike.groupby(['startdate','pickup_zip']).count()['bikeid'].reset_index()\n",
    "bike_daily = pd.DataFrame(bike_daily)\n",
    "bike_daily.columns = ['startdate','pickup_zip','bike_trips']\n"
   ]
  },
  {
   "cell_type": "code",
   "execution_count": 215,
   "metadata": {
    "collapsed": false
   },
   "outputs": [
    {
     "data": {
      "text/html": [
       "<div>\n",
       "<table border=\"1\" class=\"dataframe\">\n",
       "  <thead>\n",
       "    <tr style=\"text-align: right;\">\n",
       "      <th></th>\n",
       "      <th>pickup_zip</th>\n",
       "      <th>bike_stations</th>\n",
       "    </tr>\n",
       "  </thead>\n",
       "  <tbody>\n",
       "    <tr>\n",
       "      <th>0</th>\n",
       "      <td>10001</td>\n",
       "      <td>5</td>\n",
       "    </tr>\n",
       "    <tr>\n",
       "      <th>1</th>\n",
       "      <td>10002</td>\n",
       "      <td>15</td>\n",
       "    </tr>\n",
       "    <tr>\n",
       "      <th>2</th>\n",
       "      <td>10003</td>\n",
       "      <td>19</td>\n",
       "    </tr>\n",
       "    <tr>\n",
       "      <th>3</th>\n",
       "      <td>10004</td>\n",
       "      <td>6</td>\n",
       "    </tr>\n",
       "    <tr>\n",
       "      <th>4</th>\n",
       "      <td>10005</td>\n",
       "      <td>5</td>\n",
       "    </tr>\n",
       "  </tbody>\n",
       "</table>\n",
       "</div>"
      ],
      "text/plain": [
       "   pickup_zip  bike_stations\n",
       "0       10001              5\n",
       "1       10002             15\n",
       "2       10003             19\n",
       "3       10004              6\n",
       "4       10005              5"
      ]
     },
     "execution_count": 215,
     "metadata": {},
     "output_type": "execute_result"
    }
   ],
   "source": [
    "# count no. of bike stations in a particular zip\n",
    "bike_stations = bike.groupby(['pickup_zip']).agg({'start station id':pd.Series.nunique}).reset_index()\n",
    "bike_stations = pd.DataFrame(bike_stations)\n",
    "bike_stations.columns = ['pickup_zip','bike_stations']\n",
    "\n",
    "bike_stations.head()"
   ]
  },
  {
   "cell_type": "code",
   "execution_count": 216,
   "metadata": {
    "collapsed": false
   },
   "outputs": [
    {
     "data": {
      "text/plain": [
       "startdate      object\n",
       "pickup_zip    float64\n",
       "trip_count      int64\n",
       "dtype: object"
      ]
     },
     "execution_count": 216,
     "metadata": {},
     "output_type": "execute_result"
    }
   ],
   "source": [
    "#merge taxi_daily & bike_daily on zip and date\n",
    "taxi_bike = pd.merge(taxi_daily, bike_daily, how ='inner',left_on = ['startdate','pickup_zip'], \\\n",
    "                                                                              right_on = ['startdate','pickup_zip'])\n",
    "#merge bike_stations and taxi_daily on zip\n",
    "taxi_bike = pd.merge(taxi_bike, bike_stations, how = 'left', left_on = 'pickup_zip', right_on = 'pickup_zip')\n",
    "\n",
    "#<QC-check>\n",
    "#taxi_bike.isnull().any()\n",
    "taxi_daily.dtypes\n",
    "\n"
   ]
  },
  {
   "cell_type": "code",
   "execution_count": 217,
   "metadata": {
    "collapsed": false,
    "scrolled": true
   },
   "outputs": [
    {
     "data": {
      "text/plain": [
       "startdate                    False\n",
       "pickup_zip                   False\n",
       "trip_count                   False\n",
       "bike_trips                   False\n",
       "bike_stations                False\n",
       "max_tempf                    False\n",
       "mean_tempf                   False\n",
       "min temperaturef             False\n",
       "max dew pointf               False\n",
       "meandew pointf               False\n",
       "min dewpointf                False\n",
       "max humidity                 False\n",
       "mean humidity                False\n",
       "min humidity                 False\n",
       "max sea level pressurein      True\n",
       "mean sea level pressurein     True\n",
       "min sea level pressurein      True\n",
       "max visibilitymiles           True\n",
       "mean visibilitymiles          True\n",
       "min visibilitymiles           True\n",
       "max wind speedmph             True\n",
       "mean wind speedmph            True\n",
       "max gust speedmph             True\n",
       "precipitationin              False\n",
       "cloudcover                    True\n",
       "events                        True\n",
       "winddirdegrees               False\n",
       "dtype: bool"
      ]
     },
     "execution_count": 217,
     "metadata": {},
     "output_type": "execute_result"
    }
   ],
   "source": [
    "#Merge weather and taxi_bike\n",
    "weather = weather.rename(columns = {'est':'startdate', 'max temperaturef':'max_tempf', 'mean temperaturef': 'mean_tempf'})\n",
    "weather['startdate'] = pd.to_datetime(weather['startdate'])\n",
    "taxi_bike['startdate'] = pd.to_datetime(taxi_bike['startdate'])\n",
    "taxi_bike_weather = pd.merge(taxi_bike,weather, how = 'left',left_on = 'startdate',right_on = 'startdate')\n",
    "\n",
    "#QC-check\n",
    "taxi_bike_weather.isnull().any()\n"
   ]
  },
  {
   "cell_type": "code",
   "execution_count": 218,
   "metadata": {
    "collapsed": false
   },
   "outputs": [
    {
     "data": {
      "text/plain": [
       "startdate                    False\n",
       "max_tempf                    False\n",
       "mean_tempf                   False\n",
       "min temperaturef             False\n",
       "max dew pointf               False\n",
       "meandew pointf               False\n",
       "min dewpointf                False\n",
       "max humidity                 False\n",
       "mean humidity                False\n",
       "min humidity                 False\n",
       "max sea level pressurein      True\n",
       "mean sea level pressurein     True\n",
       "min sea level pressurein      True\n",
       "max visibilitymiles           True\n",
       "mean visibilitymiles          True\n",
       "min visibilitymiles           True\n",
       "max wind speedmph             True\n",
       "mean wind speedmph            True\n",
       "max gust speedmph             True\n",
       "precipitationin              False\n",
       "cloudcover                    True\n",
       "events                        True\n",
       "winddirdegrees               False\n",
       "dtype: bool"
      ]
     },
     "execution_count": 218,
     "metadata": {},
     "output_type": "execute_result"
    }
   ],
   "source": [
    "weather.isnull().any()"
   ]
  },
  {
   "cell_type": "code",
   "execution_count": 219,
   "metadata": {
    "collapsed": false
   },
   "outputs": [
    {
     "data": {
      "text/plain": [
       "startdate                    datetime64[ns]\n",
       "pickup_zip                          float64\n",
       "trip_count                            int64\n",
       "bike_trips                            int64\n",
       "bike_stations                         int64\n",
       "max_tempf                             int64\n",
       "mean_tempf                            int64\n",
       "min temperaturef                      int64\n",
       "max dew pointf                        int64\n",
       "meandew pointf                        int64\n",
       "min dewpointf                         int64\n",
       "max humidity                          int64\n",
       "mean humidity                         int64\n",
       "min humidity                          int64\n",
       "max sea level pressurein            float64\n",
       "mean sea level pressurein           float64\n",
       "min sea level pressurein            float64\n",
       "max visibilitymiles                 float64\n",
       "mean visibilitymiles                float64\n",
       "min visibilitymiles                 float64\n",
       "max wind speedmph                   float64\n",
       "mean wind speedmph                  float64\n",
       "max gust speedmph                   float64\n",
       "precipitationin                      object\n",
       "cloudcover                          float64\n",
       "events                               object\n",
       "winddirdegrees                        int64\n",
       "precip                              float64\n",
       "dtype: object"
      ]
     },
     "execution_count": 219,
     "metadata": {},
     "output_type": "execute_result"
    }
   ],
   "source": [
    "#weather data processing for modelling-convert precipitation column to numerical\n",
    "taxi_bike_weather['precipitationin'] = taxi_bike_weather['precipitationin'].str.replace('T','0.001')\n",
    "taxi_bike_weather['precip'] = taxi_bike_weather['precipitationin'].astype(float)\n",
    "taxi_bike_weather.dtypes\n",
    "\n"
   ]
  },
  {
   "cell_type": "code",
   "execution_count": 220,
   "metadata": {
    "collapsed": false
   },
   "outputs": [
    {
     "data": {
      "text/plain": [
       "Counter({'Fog-Rain': 478, 'Rain': 1818, 'no_event': 7428})"
      ]
     },
     "execution_count": 220,
     "metadata": {},
     "output_type": "execute_result"
    }
   ],
   "source": [
    "taxi_bike_weather['events'] = taxi_bike_weather['events'].fillna('no_event')\n",
    "from collections import Counter\n",
    "Counter(taxi_bike_weather['events'])"
   ]
  },
  {
   "cell_type": "code",
   "execution_count": 221,
   "metadata": {
    "collapsed": false
   },
   "outputs": [
    {
     "data": {
      "text/plain": [
       "Counter({'N': 9351, 'Y': 373})"
      ]
     },
     "execution_count": 221,
     "metadata": {},
     "output_type": "execute_result"
    }
   ],
   "source": [
    "#Create weekday and holiday flag\n",
    "import holidays\n",
    "import datetime as dt\n",
    "\n",
    "def ny_holidays(x):\n",
    "    if x in holidays.US(state = 'NY'):\n",
    "        return 'Y'\n",
    "    else:\n",
    "        return 'N'\n",
    "\n",
    "\n",
    "taxi_bike_weather['holiday'] = taxi_bike_weather['startdate'].map(ny_holidays)\n",
    "Counter(taxi_bike_weather['holiday'])\n",
    "\n"
   ]
  },
  {
   "cell_type": "code",
   "execution_count": 222,
   "metadata": {
    "collapsed": false,
    "scrolled": true
   },
   "outputs": [],
   "source": [
    "taxi_bike_weather['dofweek'] = taxi_bike_weather['startdate'].dt.dayofweek\n",
    "\n",
    "taxi_bike_weather.loc[(taxi_bike_weather['dofweek'] == 0) | (taxi_bike_weather['dofweek'] == 1) | \\\n",
    "              (taxi_bike_weather['dofweek'] == 2) | (taxi_bike_weather['dofweek'] == 3) | (taxi_bike_weather['dofweek'] == 4)\\\n",
    "               , 'weekday'] = 'Y'\n",
    "\n",
    "taxi_bike_weather.loc[(taxi_bike_weather['dofweek'] == 5) | (taxi_bike_weather['dofweek'] == 6),'weekday'] = 'N'\n",
    "\n"
   ]
  },
  {
   "cell_type": "code",
   "execution_count": 223,
   "metadata": {
    "collapsed": false
   },
   "outputs": [],
   "source": [
    "import seaborn as sns\n",
    "import matplotlib.pyplot as plt\n",
    "import matplotlib\n",
    "sns.lmplot(x='bike_trips', y='trip_count',data=taxi_bike_weather,fit_reg=True)\n",
    "sns.lmplot(x='bike_stations', y='trip_count',data=taxi_bike_weather,fit_reg=True)\n",
    "sns.lmplot(x='mean_tempf', y='trip_count',data=taxi_bike_weather,fit_reg=True)\n",
    "plt.show()\n",
    "\n",
    "\n"
   ]
  },
  {
   "cell_type": "code",
   "execution_count": 226,
   "metadata": {
    "collapsed": false,
    "scrolled": false
   },
   "outputs": [
    {
     "name": "stdout",
     "output_type": "stream",
     "text": [
      "                            OLS Regression Results                            \n",
      "==============================================================================\n",
      "Dep. Variable:             trip_count   R-squared:                       0.559\n",
      "Model:                            OLS   Adj. R-squared:                  0.559\n",
      "Method:                 Least Squares   F-statistic:                     2465.\n",
      "Date:                Tue, 16 Aug 2016   Prob (F-statistic):               0.00\n",
      "Time:                        19:58:57   Log-Likelihood:                -48706.\n",
      "No. Observations:                9724   AIC:                         9.742e+04\n",
      "Df Residuals:                    9718   BIC:                         9.747e+04\n",
      "Df Model:                           5                                         \n",
      "Covariance Type:            nonrobust                                         \n",
      "================================================================================\n",
      "                   coef    std err          t      P>|t|      [95.0% Conf. Int.]\n",
      "--------------------------------------------------------------------------------\n",
      "Intercept       44.9020      2.262     19.851      0.000        40.468    49.336\n",
      "holiday[T.Y]    -3.6467      1.925     -1.895      0.058        -7.419     0.126\n",
      "weekday[T.Y]   -10.2032      0.819    -12.454      0.000       -11.809    -8.597\n",
      "bike_trips       0.5662      0.005    110.875      0.000         0.556     0.576\n",
      "mean_tempf      -0.3679      0.032    -11.376      0.000        -0.431    -0.305\n",
      "precip          13.4095      1.229     10.913      0.000        11.001    15.818\n",
      "==============================================================================\n",
      "Omnibus:                     1445.447   Durbin-Watson:                   1.080\n",
      "Prob(Omnibus):                  0.000   Jarque-Bera (JB):             2283.466\n",
      "Skew:                           1.035   Prob(JB):                         0.00\n",
      "Kurtosis:                       4.164   Cond. No.                         714.\n",
      "==============================================================================\n",
      "\n",
      "Warnings:\n",
      "[1] Standard Errors assume that the covariance matrix of the errors is correctly specified.\n"
     ]
    }
   ],
   "source": [
    "import statsmodels.formula.api as sm\n",
    "\n",
    "result = sm.ols(formula=\"trip_count ~ bike_trips + mean_tempf + precip + holiday + weekday\",\\\n",
    "                                                                                        data=taxi_bike_weather).fit()\n",
    "#est.summary()\n",
    "print result.summary()"
   ]
  },
  {
   "cell_type": "code",
   "execution_count": 227,
   "metadata": {
    "collapsed": false
   },
   "outputs": [
    {
     "data": {
      "text/html": [
       "<div>\n",
       "<table border=\"1\" class=\"dataframe\">\n",
       "  <thead>\n",
       "    <tr style=\"text-align: right;\">\n",
       "      <th></th>\n",
       "      <th>startdate</th>\n",
       "      <th>pickup_zip</th>\n",
       "      <th>trip_count</th>\n",
       "      <th>bike_trips</th>\n",
       "      <th>bike_stations</th>\n",
       "      <th>max_tempf</th>\n",
       "      <th>mean_tempf</th>\n",
       "      <th>min temperaturef</th>\n",
       "      <th>max dew pointf</th>\n",
       "      <th>meandew pointf</th>\n",
       "      <th>...</th>\n",
       "      <th>mean wind speedmph</th>\n",
       "      <th>max gust speedmph</th>\n",
       "      <th>precipitationin</th>\n",
       "      <th>cloudcover</th>\n",
       "      <th>events</th>\n",
       "      <th>winddirdegrees</th>\n",
       "      <th>precip</th>\n",
       "      <th>holiday</th>\n",
       "      <th>dofweek</th>\n",
       "      <th>weekday</th>\n",
       "    </tr>\n",
       "  </thead>\n",
       "  <tbody>\n",
       "    <tr>\n",
       "      <th>0</th>\n",
       "      <td>2015-05-01</td>\n",
       "      <td>10001.0</td>\n",
       "      <td>29</td>\n",
       "      <td>47</td>\n",
       "      <td>5</td>\n",
       "      <td>63</td>\n",
       "      <td>56</td>\n",
       "      <td>49</td>\n",
       "      <td>40</td>\n",
       "      <td>39</td>\n",
       "      <td>...</td>\n",
       "      <td>5.0</td>\n",
       "      <td>18.0</td>\n",
       "      <td>0.00</td>\n",
       "      <td>6.0</td>\n",
       "      <td>no_event</td>\n",
       "      <td>98</td>\n",
       "      <td>0.0</td>\n",
       "      <td>N</td>\n",
       "      <td>4</td>\n",
       "      <td>Y</td>\n",
       "    </tr>\n",
       "    <tr>\n",
       "      <th>1</th>\n",
       "      <td>2015-05-01</td>\n",
       "      <td>10002.0</td>\n",
       "      <td>43</td>\n",
       "      <td>99</td>\n",
       "      <td>15</td>\n",
       "      <td>63</td>\n",
       "      <td>56</td>\n",
       "      <td>49</td>\n",
       "      <td>40</td>\n",
       "      <td>39</td>\n",
       "      <td>...</td>\n",
       "      <td>5.0</td>\n",
       "      <td>18.0</td>\n",
       "      <td>0.00</td>\n",
       "      <td>6.0</td>\n",
       "      <td>no_event</td>\n",
       "      <td>98</td>\n",
       "      <td>0.0</td>\n",
       "      <td>N</td>\n",
       "      <td>4</td>\n",
       "      <td>Y</td>\n",
       "    </tr>\n",
       "    <tr>\n",
       "      <th>2</th>\n",
       "      <td>2015-05-01</td>\n",
       "      <td>10003.0</td>\n",
       "      <td>162</td>\n",
       "      <td>231</td>\n",
       "      <td>19</td>\n",
       "      <td>63</td>\n",
       "      <td>56</td>\n",
       "      <td>49</td>\n",
       "      <td>40</td>\n",
       "      <td>39</td>\n",
       "      <td>...</td>\n",
       "      <td>5.0</td>\n",
       "      <td>18.0</td>\n",
       "      <td>0.00</td>\n",
       "      <td>6.0</td>\n",
       "      <td>no_event</td>\n",
       "      <td>98</td>\n",
       "      <td>0.0</td>\n",
       "      <td>N</td>\n",
       "      <td>4</td>\n",
       "      <td>Y</td>\n",
       "    </tr>\n",
       "    <tr>\n",
       "      <th>3</th>\n",
       "      <td>2015-05-01</td>\n",
       "      <td>10004.0</td>\n",
       "      <td>20</td>\n",
       "      <td>33</td>\n",
       "      <td>6</td>\n",
       "      <td>63</td>\n",
       "      <td>56</td>\n",
       "      <td>49</td>\n",
       "      <td>40</td>\n",
       "      <td>39</td>\n",
       "      <td>...</td>\n",
       "      <td>5.0</td>\n",
       "      <td>18.0</td>\n",
       "      <td>0.00</td>\n",
       "      <td>6.0</td>\n",
       "      <td>no_event</td>\n",
       "      <td>98</td>\n",
       "      <td>0.0</td>\n",
       "      <td>N</td>\n",
       "      <td>4</td>\n",
       "      <td>Y</td>\n",
       "    </tr>\n",
       "    <tr>\n",
       "      <th>4</th>\n",
       "      <td>2015-05-01</td>\n",
       "      <td>10005.0</td>\n",
       "      <td>3</td>\n",
       "      <td>18</td>\n",
       "      <td>5</td>\n",
       "      <td>63</td>\n",
       "      <td>56</td>\n",
       "      <td>49</td>\n",
       "      <td>40</td>\n",
       "      <td>39</td>\n",
       "      <td>...</td>\n",
       "      <td>5.0</td>\n",
       "      <td>18.0</td>\n",
       "      <td>0.00</td>\n",
       "      <td>6.0</td>\n",
       "      <td>no_event</td>\n",
       "      <td>98</td>\n",
       "      <td>0.0</td>\n",
       "      <td>N</td>\n",
       "      <td>4</td>\n",
       "      <td>Y</td>\n",
       "    </tr>\n",
       "  </tbody>\n",
       "</table>\n",
       "<p>5 rows × 31 columns</p>\n",
       "</div>"
      ],
      "text/plain": [
       "   startdate  pickup_zip  trip_count  bike_trips  bike_stations  max_tempf  \\\n",
       "0 2015-05-01     10001.0          29          47              5         63   \n",
       "1 2015-05-01     10002.0          43          99             15         63   \n",
       "2 2015-05-01     10003.0         162         231             19         63   \n",
       "3 2015-05-01     10004.0          20          33              6         63   \n",
       "4 2015-05-01     10005.0           3          18              5         63   \n",
       "\n",
       "   mean_tempf  min temperaturef  max dew pointf  meandew pointf   ...     \\\n",
       "0          56                49              40              39   ...      \n",
       "1          56                49              40              39   ...      \n",
       "2          56                49              40              39   ...      \n",
       "3          56                49              40              39   ...      \n",
       "4          56                49              40              39   ...      \n",
       "\n",
       "   mean wind speedmph  max gust speedmph  precipitationin  cloudcover  \\\n",
       "0                 5.0               18.0             0.00         6.0   \n",
       "1                 5.0               18.0             0.00         6.0   \n",
       "2                 5.0               18.0             0.00         6.0   \n",
       "3                 5.0               18.0             0.00         6.0   \n",
       "4                 5.0               18.0             0.00         6.0   \n",
       "\n",
       "     events  winddirdegrees  precip  holiday  dofweek  weekday  \n",
       "0  no_event              98     0.0        N        4        Y  \n",
       "1  no_event              98     0.0        N        4        Y  \n",
       "2  no_event              98     0.0        N        4        Y  \n",
       "3  no_event              98     0.0        N        4        Y  \n",
       "4  no_event              98     0.0        N        4        Y  \n",
       "\n",
       "[5 rows x 31 columns]"
      ]
     },
     "execution_count": 227,
     "metadata": {},
     "output_type": "execute_result"
    }
   ],
   "source": [
    "taxi_bike_weather.head()"
   ]
  },
  {
   "cell_type": "code",
   "execution_count": null,
   "metadata": {
    "collapsed": true
   },
   "outputs": [],
   "source": []
  }
 ],
 "metadata": {
  "anaconda-cloud": {},
  "kernelspec": {
   "display_name": "Python [ipykernel_py2]",
   "language": "python",
   "name": "Python [ipykernel_py2]"
  },
  "language_info": {
   "codemirror_mode": {
    "name": "ipython",
    "version": 2
   },
   "file_extension": ".py",
   "mimetype": "text/x-python",
   "name": "python",
   "nbconvert_exporter": "python",
   "pygments_lexer": "ipython2",
   "version": "2.7.12"
  }
 },
 "nbformat": 4,
 "nbformat_minor": 0
}
